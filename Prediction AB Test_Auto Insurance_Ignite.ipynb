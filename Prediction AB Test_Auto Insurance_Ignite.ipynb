{
 "cells": [
  {
   "cell_type": "code",
   "execution_count": 2,
   "metadata": {},
   "outputs": [],
   "source": [
    "import joblib\n",
    "import pandas as pd\n",
    "from sklearn.model_selection import train_test_split\n",
    "from sklearn.metrics import classification_report, accuracy_score, confusion_matrix\n",
    "from sklearn.preprocessing import OneHotEncoder\n",
    "import numpy as np\n",
    "import matplotlib.pyplot as plt\n",
    "import numpy as np\n",
    "\n",
    "# Load the unseen data\n",
    "clv_unseen = pd.read_csv('unseen_auto_insurance.csv')"
   ]
  },
  {
   "cell_type": "code",
   "execution_count": 3,
   "metadata": {},
   "outputs": [],
   "source": [
    "# Split the unseen data into two halves (50% each), stratified by the 'Response'\n",
    "clv_unseen_untreated, clv_unseen_treated = train_test_split(\n",
    "    clv_unseen,\n",
    "    stratify=clv_unseen['Response'],\n",
    "    test_size=0.5,\n",
    "    random_state=42\n",
    ")"
   ]
  },
  {
   "cell_type": "markdown",
   "metadata": {},
   "source": [
    "### Dataset Overview:\n",
    "- The dataset is divided to separate the data for testing purposes.\n",
    "- This division **splits the data evenly into a 50:50 ratio** and **uses stratification to split the 'Response' column evenly**.\n",
    "- Testing will **use the entire dataset that has been split evenly (913 data points)** for each case, to ensure that the initial testing conditions are **equal for both cases**."
   ]
  },
  {
   "cell_type": "markdown",
   "metadata": {},
   "source": [
    "# Section 1: Minimal Treatment (One-Hot Encoding)"
   ]
  },
  {
   "cell_type": "code",
   "execution_count": 4,
   "metadata": {},
   "outputs": [],
   "source": [
    "# Dropping unnecessary columns\n",
    "clv_unseen_untreated = clv_unseen_untreated.drop(columns=['Customer', 'Effective To Date', 'Unnamed: 0'])\n",
    "\n",
    "# Mapping 'Yes'/'No' to 1/0 in the Response column\n",
    "clv_unseen_untreated['Response'] = clv_unseen_untreated['Response'].map({'Yes': 1, 'No': 0}).astype(float)\n",
    "\n",
    "# Split the data into features and target variable\n",
    "X_unseen_untreated = clv_unseen_untreated.drop('Response', axis=1)\n",
    "y_unseen_untreated = clv_unseen_untreated['Response']\n",
    "\n",
    "# Identify categorical columns automatically\n",
    "categorical_columns = X_unseen_untreated.select_dtypes(include=['object', 'category']).columns.tolist()\n",
    "\n",
    "# Identify numerical columns automatically\n",
    "numerical_columns = X_unseen_untreated.select_dtypes(exclude=['object', 'category']).columns.tolist()\n",
    "\n",
    "# Apply One-Hot Encoding to all categorical columns\n",
    "one_hot_encoder = OneHotEncoder(sparse_output=False)\n",
    "X_unseen_untreated_categorical = one_hot_encoder.fit_transform(X_unseen_untreated[categorical_columns])\n",
    "\n",
    "# Convert One-Hot Encoded data to DataFrame with appropriate column names\n",
    "one_hot_encoded_columns = one_hot_encoder.get_feature_names_out(categorical_columns)\n",
    "X_unseen_untreated_categorical = pd.DataFrame(X_unseen_untreated_categorical, columns=one_hot_encoded_columns, index=X_unseen_untreated.index)\n",
    "\n",
    "# Combine the numerical features with the one-hot encoded categorical features\n",
    "X_unseen_combined = pd.concat([X_unseen_untreated[numerical_columns], X_unseen_untreated_categorical], axis=1)"
   ]
  },
  {
   "cell_type": "markdown",
   "metadata": {},
   "source": [
    "### Section 1:\n",
    "- In this section, the data will **receive minimal treatment to be readable by the KNN model**, which only accepts numerical data.\n",
    "- To make the data numerical and ensure the number of columns meets the model's requirement of 63 columns, we perform **Encoding** on all categorical columns using **One-Hot Encoder**.\n",
    "- We **Drop** data that is not used in the model, specifically **'Customer', 'Effective To Date', and 'Unnamed: 0'**."
   ]
  },
  {
   "cell_type": "code",
   "execution_count": 5,
   "metadata": {},
   "outputs": [],
   "source": [
    "# Load the knn_tuned model\n",
    "knn_tuned_model = joblib.load('knn_tuned_model.pkl')"
   ]
  },
  {
   "cell_type": "code",
   "execution_count": 6,
   "metadata": {},
   "outputs": [],
   "source": [
    "# Predict using the untreated data model\n",
    "y_pred_untreated = knn_tuned_model.predict(X_unseen_combined)\n",
    "\n",
    "y_proba_untreated = knn_tuned_model.predict_proba(X_unseen_combined)"
   ]
  },
  {
   "cell_type": "code",
   "execution_count": 7,
   "metadata": {},
   "outputs": [
    {
     "name": "stdout",
     "output_type": "stream",
     "text": [
      "Performance on Minimally Treated Data (One-Hot Encoding):\n",
      "Accuracy: 0.6111719605695509\n",
      "Classification Report:\n",
      "               precision    recall  f1-score   support\n",
      "\n",
      "         0.0       0.97      0.56      0.71       782\n",
      "         1.0       0.26      0.91      0.40       131\n",
      "\n",
      "    accuracy                           0.61       913\n",
      "   macro avg       0.62      0.73      0.56       913\n",
      "weighted avg       0.87      0.61      0.67       913\n",
      "\n",
      "Confusion Matrix:\n",
      " [[439 343]\n",
      " [ 12 119]]\n"
     ]
    }
   ],
   "source": [
    "# Evaluate performance\n",
    "print(\"Performance on Minimally Treated Data (One-Hot Encoding):\")\n",
    "print(\"Accuracy:\", accuracy_score(y_unseen_untreated, y_pred_untreated))\n",
    "print(\"Classification Report:\\n\", classification_report(y_unseen_untreated, y_pred_untreated))\n",
    "print(\"Confusion Matrix:\\n\", confusion_matrix(y_unseen_untreated, y_pred_untreated))"
   ]
  },
  {
   "cell_type": "markdown",
   "metadata": {},
   "source": [
    "## Untreated data Analysis"
   ]
  },
  {
   "cell_type": "code",
   "execution_count": 8,
   "metadata": {},
   "outputs": [
    {
     "name": "stdout",
     "output_type": "stream",
     "text": [
      "Untreated Data - 'Yes' Predictions: 462, Correctly Predicted 'Yes': 119\n",
      "Untreated Data - 'Yes' Accuracy: 25.76%\n"
     ]
    }
   ],
   "source": [
    "# Count total 'Yes' and 'No' predictions\n",
    "untreated_yes_count = sum(y_pred_untreated == 1)\n",
    "\n",
    "# Count total 'Yes' and 'No' predictions\n",
    "untreated_correct_yes = sum((y_pred_untreated == 1) & (y_unseen_untreated == 1))\n",
    "\n",
    "# Calculate accuracy for 'Yes' and 'No' separately\n",
    "untreated_yes_accuracy = untreated_correct_yes / untreated_yes_count if untreated_yes_count > 0 else 0\n",
    "\n",
    "# Print results for untreated data\n",
    "print(f\"Untreated Data - 'Yes' Predictions: {untreated_yes_count}, Correctly Predicted 'Yes': {untreated_correct_yes}\")\n",
    "print(f\"Untreated Data - 'Yes' Accuracy: {untreated_yes_accuracy*100:.2f}%\")"
   ]
  },
  {
   "cell_type": "markdown",
   "metadata": {},
   "source": [
    "### Analysis:\n",
    "The results from the test on untreated data show the following output:\n",
    "- The number of **'Yes' Predictions** is 462, but out of these, only **119 were correctly predicted as 'Yes'**. This means that the model can only correctly predict **25.76% of the 'Yes' responses**."
   ]
  },
  {
   "cell_type": "markdown",
   "metadata": {},
   "source": [
    "# Section 2: Preparing and testing treated data with pipe_tuned_pipeline"
   ]
  },
  {
   "cell_type": "code",
   "execution_count": 9,
   "metadata": {},
   "outputs": [],
   "source": [
    "# Dropping unnecessary columns\n",
    "clv_unseen_treated = clv_unseen_treated.drop(columns=['Customer', 'Effective To Date', 'Unnamed: 0'])\n",
    "\n",
    "# Mapping 'Yes'/'No' to 1/0 in the Response column\n",
    "clv_unseen_treated['Response'] = clv_unseen_treated['Response'].map({'Yes': 1, 'No': 0}).astype(float)\n",
    "\n",
    "# Applying logarithmic transformation\n",
    "clv_unseen_treated['CLV_log'] = np.log1p(clv_unseen_treated['Customer Lifetime Value'])\n",
    "clv_unseen_treated['Income_Log'] = np.log1p(clv_unseen_treated['Income'])\n",
    "clv_unseen_treated['TCA_Log'] = np.log1p(clv_unseen_treated['Total Claim Amount'])\n",
    "\n",
    "# Dropping the original columns after logging\n",
    "clv_unseen_treated = clv_unseen_treated.drop(columns=['Customer Lifetime Value', 'Income', 'Total Claim Amount'])\n",
    "\n",
    "# Splitting treated data into features and target variable\n",
    "X_unseen_treated = clv_unseen_treated.drop(columns=['Response'])\n",
    "y_unseen_treated = clv_unseen_treated['Response']\n",
    "\n"
   ]
  },
  {
   "cell_type": "markdown",
   "metadata": {},
   "source": [
    "### Section 2:\n",
    "- In this section, the data will **receive maximum treatment for the main model's needs**, so the data becomes numerical, and the number of columns **matches the model's requirement** of 52 columns.\n",
    "- We apply encoding to all categorical columns in the pipeline using **One-Hot Encoder, Binary Encoder, and Ordinal Encoder**, depending on the type of data in each column.\n",
    "- We also apply a **Natural Logarithm** to reduce large numeric values in the dataset.\n",
    "- We **Drop** columns that will not be used in the model and duplicate columns, such as **'Customer Lifetime Value', 'Income', 'Total Claim Amount', 'Customer', 'Effective To Date', and 'Unnamed: 0'**."
   ]
  },
  {
   "cell_type": "code",
   "execution_count": 10,
   "metadata": {},
   "outputs": [],
   "source": [
    "# Load the pipe_tuned pipeline\n",
    "pipe_tuned_pipeline = joblib.load('pipe_tuned_pipeline.pkl')"
   ]
  },
  {
   "cell_type": "code",
   "execution_count": 11,
   "metadata": {},
   "outputs": [],
   "source": [
    "# Predict using the treated data pipeline\n",
    "y_pred_treated = pipe_tuned_pipeline.predict(X_unseen_treated)\n",
    "\n",
    "y_proba_treated = pipe_tuned_pipeline.predict_proba(X_unseen_treated)"
   ]
  },
  {
   "cell_type": "code",
   "execution_count": 12,
   "metadata": {},
   "outputs": [
    {
     "name": "stdout",
     "output_type": "stream",
     "text": [
      "\n",
      "Performance on Treated Data (pipe_tuned_pipeline):\n",
      "Accuracy: 0.8982494529540481\n",
      "Classification Report:\n",
      "               precision    recall  f1-score   support\n",
      "\n",
      "         0.0       1.00      0.89      0.94       783\n",
      "         1.0       0.59      0.98      0.73       131\n",
      "\n",
      "    accuracy                           0.90       914\n",
      "   macro avg       0.79      0.93      0.84       914\n",
      "weighted avg       0.94      0.90      0.91       914\n",
      "\n",
      "Confusion Matrix:\n",
      " [[693  90]\n",
      " [  3 128]]\n"
     ]
    }
   ],
   "source": [
    "# Evaluate performance\n",
    "print(\"\\nPerformance on Treated Data (pipe_tuned_pipeline):\")\n",
    "print(\"Accuracy:\", accuracy_score(y_unseen_treated, y_pred_treated))\n",
    "print(\"Classification Report:\\n\", classification_report(y_unseen_treated, y_pred_treated))\n",
    "print(\"Confusion Matrix:\\n\", confusion_matrix(y_unseen_treated, y_pred_treated))"
   ]
  },
  {
   "cell_type": "markdown",
   "metadata": {},
   "source": [
    "## Treated data Analysis"
   ]
  },
  {
   "cell_type": "code",
   "execution_count": 13,
   "metadata": {},
   "outputs": [
    {
     "name": "stdout",
     "output_type": "stream",
     "text": [
      "Treated Data - 'Yes' Predictions: 218, Correctly Predicted 'Yes': 128\n",
      "Treated Data - 'Yes' Accuracy: 58.72%\n"
     ]
    }
   ],
   "source": [
    "# Count total 'Yes' and 'No' predictions\n",
    "treated_yes_count = sum(y_pred_treated == 1)\n",
    "\n",
    "# Count correct 'Yes' and 'No' predictions\n",
    "treated_correct_yes = sum((y_pred_treated == 1) & (y_unseen_treated == 1))\n",
    "\n",
    "# Calculate accuracy for 'Yes' and 'No'\n",
    "treated_yes_accuracy = treated_correct_yes / treated_yes_count if treated_yes_count > 0 else 0\n",
    "\n",
    "# Print results for treated data\n",
    "print(f\"Treated Data - 'Yes' Predictions: {treated_yes_count}, Correctly Predicted 'Yes': {treated_correct_yes}\")\n",
    "print(f\"Treated Data - 'Yes' Accuracy: {treated_yes_accuracy*100:.2f}%\")"
   ]
  },
  {
   "cell_type": "markdown",
   "metadata": {},
   "source": [
    "### Analysis:\n",
    "The results from the test on untreated data show the following output:\n",
    "- The number of **'Yes' Predictions** is 218, and out of these, **128 were correctly predicted as 'Yes'**. This means that the model can correctly predict **58.72% of the 'Yes' responses**."
   ]
  },
  {
   "cell_type": "markdown",
   "metadata": {},
   "source": [
    "# Model Amplification Analysis"
   ]
  },
  {
   "cell_type": "code",
   "execution_count": 14,
   "metadata": {},
   "outputs": [
    {
     "name": "stdout",
     "output_type": "stream",
     "text": [
      "Untreated Data - 'Yes' Gap: 343\n"
     ]
    }
   ],
   "source": [
    "# Calculate gaps for untreated data\n",
    "gap_yes_untreated = untreated_yes_count - untreated_correct_yes  # Total 'Yes' predictions (462) - Correct 'Yes' predictions (119)\n",
    "\n",
    "# Calculate gaps for treated data\n",
    "gap_yes_treated = treated_yes_count - treated_correct_yes    # Total 'Yes' predictions (218) - Correct 'Yes' predictions (128)\n",
    "\n",
    "# Print the results\n",
    "print(f\"Untreated Data - 'Yes' Gap: {gap_yes_untreated}\")"
   ]
  },
  {
   "cell_type": "code",
   "execution_count": 15,
   "metadata": {},
   "outputs": [
    {
     "name": "stdout",
     "output_type": "stream",
     "text": [
      "Multiplier Gap - 'Yes': 3.81 times better\n"
     ]
    }
   ],
   "source": [
    "# Calculate multiplier gap for 'Yes' predictions\n",
    "multiplier_gap_yes = gap_yes_untreated / gap_yes_treated if gap_yes_treated != 0 else float('inf')\n",
    "\n",
    "# Print the results\n",
    "print(f\"Multiplier Gap - 'Yes': {multiplier_gap_yes:.2f} times better\")"
   ]
  },
  {
   "cell_type": "code",
   "execution_count": 16,
   "metadata": {},
   "outputs": [
    {
     "name": "stdout",
     "output_type": "stream",
     "text": [
      "Proportional Gap - Untreated 'Yes': 79.21%, Treated 'Yes': 20.79%\n"
     ]
    }
   ],
   "source": [
    "# Total counts of all gaps\n",
    "total_gaps_yes = gap_yes_untreated + gap_yes_treated\n",
    "\n",
    "# Proportional percentages for gaps\n",
    "proportional_gap_yes_untreated = (gap_yes_untreated / total_gaps_yes) * 100\n",
    "proportional_gap_yes_treated = (gap_yes_treated / total_gaps_yes) * 100\n",
    "\n",
    "print(f\"Proportional Gap - Untreated 'Yes': {proportional_gap_yes_untreated:.2f}%, Treated 'Yes': {proportional_gap_yes_treated:.2f}%\")"
   ]
  },
  {
   "cell_type": "code",
   "execution_count": 17,
   "metadata": {},
   "outputs": [
    {
     "name": "stdout",
     "output_type": "stream",
     "text": [
      "Improvement in 'Yes' Predictions: 58.43%\n"
     ]
    }
   ],
   "source": [
    "improvement_yes = proportional_gap_yes_untreated - proportional_gap_yes_treated\n",
    "\n",
    "print(f\"Improvement in 'Yes' Predictions: {improvement_yes:.2f}%\")"
   ]
  },
  {
   "cell_type": "code",
   "execution_count": 18,
   "metadata": {},
   "outputs": [
    {
     "data": {
      "image/png": "[encoded data removed]",
      "text/plain": [
       "<Figure size 1000x1500 with 3 Axes>"
      ]
     },
     "metadata": {},
     "output_type": "display_data"
    }
   ],
   "source": [
    "import matplotlib.pyplot as plt\n",
    "import numpy as np\n",
    "\n",
    "# Sample data for visualization (Replace these with your actual values)\n",
    "categories = ['Untreated', 'Treated']\n",
    "untreated_gaps = [gap_yes_untreated]  # Only Yes data for untreated gaps\n",
    "treated_gaps = [gap_yes_treated]      # Only Yes data for treated gaps\n",
    "\n",
    "# Define the width for the bars in individual plots\n",
    "width = 0.35\n",
    "\n",
    "# Setup figure with GridSpec for custom layout\n",
    "fig = plt.figure(figsize=(10, 15))\n",
    "gs = fig.add_gridspec(3, 1, height_ratios=[1, 1, 1])  # Adjusted to 3x1 grid\n",
    "\n",
    "# Bar plot for \"Yes\" data\n",
    "ax1 = fig.add_subplot(gs[0, 0])\n",
    "x_yes = np.arange(1)\n",
    "bars1_yes = ax1.bar(x_yes - width/2, untreated_gaps, width, label='Untreated', color='skyblue')\n",
    "bars2_yes = ax1.bar(x_yes + width/2, treated_gaps, width, label='Treated', color='lightcoral')\n",
    "ax1.set_xlabel('Prediction Type')\n",
    "ax1.set_ylabel('Prediction Gap')\n",
    "ax1.set_title(\"Prediction Gaps for 'Yes' [Count]\")\n",
    "ax1.set_xticks(x_yes)\n",
    "ax1.set_xticklabels(['Yes'])\n",
    "ax1.legend()\n",
    "\n",
    "# Display values on bars for \"Yes\" plot\n",
    "for bar in bars1_yes + bars2_yes:\n",
    "    yval = bar.get_height()\n",
    "    ax1.text(bar.get_x() + bar.get_width()/2, yval - 30, f'{yval:.1f}', ha='center', va='bottom')\n",
    "\n",
    "# Donut chart for \"Yes\" predictions gaps\n",
    "ax3 = fig.add_subplot(gs[1, 0])\n",
    "wedges1 = ax3.pie([gap_yes_untreated, gap_yes_treated], autopct='%1.1f%%', startangle=90, colors=['skyblue', 'lightcoral'],\n",
    "                  wedgeprops={'width': 0.3})[0]\n",
    "ax3.set_title(\"Prediction Gaps for 'Yes' [Percentage]\")\n",
    "ax3.legend(wedges1, categories, title=\"Treatment\", loc=\"center left\", bbox_to_anchor=(1, 0, 0.5, 1))\n",
    "\n",
    "# Horizontal bar chart for improvements, spanning the entire bottom row\n",
    "ax5 = fig.add_subplot(gs[2, 0])\n",
    "bars_improvement = ax5.barh(['Yes'], [improvement_yes], color='skyblue')\n",
    "ax5.set_title('Improvement in Prediction [Percentage]')\n",
    "ax5.set_xlim(0, improvement_yes + 5)  # Extend x-limit for better visibility\n",
    "\n",
    "# Display value on horizontal bar\n",
    "width = improvement_yes\n",
    "yval = 0  # Single bar, so use 0 for \"Yes\" bar\n",
    "ax5.text(width - 5, yval, f'{width:.1f}', ha='left', va='center')\n",
    "\n",
    "# Adjust layout to ensure everything fits nicely\n",
    "plt.tight_layout()\n",
    "plt.show()"
   ]
  },
  {
   "cell_type": "markdown",
   "metadata": {},
   "source": [
    "## Model Amplification Summary\n",
    "\n",
    "### Prediction Gap:\n",
    "In this data, there is a **significant prediction gap** in the results:\n",
    "\n",
    "- The **Untreated Data** has a gap **between total predictions and correct predictions** of **343 data points**.\n",
    "- In contrast, the **Treated Data** has a gap **between total predictions and correct predictions** of **90 data points**.\n",
    "- Comparing both, the **Untreated Data** has a gap of **79.2%**, while the **Treated Data** has a much lower gap of **20.8%**.\n",
    "- There is an increase in accuracy due to the reduced gap.\n",
    "\n",
    "### Analysis Conclusion:\n",
    "The prediction gap shows the difference between the number of predictions made and the number of correct predictions. A smaller gap means the model is more accurate.\n",
    "\n",
    "<br>For the Untreated Data, the gap is large (343 data points), meaning the model often predicts wrong because the data isn't well-prepared. The accuracy here is only 79.2%. For the Treated Data, the gap is much smaller (90 data points), meaning the model makes more correct predictions. The treated data has been processed and prepared to work better with the model, leading to higher accuracy at 20.8%. This shows that when data is properly prepared (treated), the model can predict more accurately because the data fits the model's needs better, reducing mistakes."
   ]
  }
 ],
 "metadata": {
  "kernelspec": {
   "display_name": "Python 3",
   "language": "python",
   "name": "python3"
  },
  "language_info": {
   "codemirror_mode": {
    "name": "ipython",
    "version": 3
   },
   "file_extension": ".py",
   "mimetype": "text/x-python",
   "name": "python",
   "nbconvert_exporter": "python",
   "pygments_lexer": "ipython3",
   "version": "3.12.2"
  }
 },
 "nbformat": 4,
 "nbformat_minor": 2
}
